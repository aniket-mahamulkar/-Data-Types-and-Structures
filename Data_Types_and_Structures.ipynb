{
  "nbformat": 4,
  "nbformat_minor": 0,
  "metadata": {
    "colab": {
      "provenance": []
    },
    "kernelspec": {
      "name": "python3",
      "display_name": "Python 3"
    },
    "language_info": {
      "name": "python"
    }
  },
  "cells": [
    {
      "cell_type": "markdown",
      "source": [
        "# **Data Types and Structures Questions**\n",
        "\n",
        "1.What are data structures, and why are they important?\n",
        "- Data structures are ways to organize and store data so it can be used efficiently. They’re important because they help manage large datasets, optimize performance, and make code easier to understand and maintain.\n",
        "\n",
        "2.Explain the difference between mutable and immutable data types with examples?\n",
        "- Mutable: Can be changed after creation (e.g., lists, dictionaries, sets)      \n",
        "   Immutable: Cannot be changed after creation (e.g., strings, tuples)\n",
        "\n",
        "3.What are the main differences between lists and tuples in Python?        \n",
        "- The primary difference is that lists are mutable, allowing modification after creation, while tuples are immutable. Lists use square brackets [ ] and tuples use parentheses ( ). Lists are used when the data may change, whereas tuples are used for fixed collections of items.\n",
        "\n",
        "4.Describe how dictionaries store data?\n",
        "- Dictionaries store data in key-value pairs using a hashing mechanism. Each key is unique and maps to a value, allowing for fast retrieval based on the key rather than index.\n",
        "\n",
        "5.Why might you use a set instead of a list in Python?\n",
        "- A set is used when you need to store unique elements and do not care about the order. Sets automatically remove duplicates and provide faster lookup operations than lists.\n",
        "\n",
        "6.What is a string in Python, and how is it different from a list?\n",
        "- A string is a sequence of characters and is immutable, meaning its characters cannot be changed once defined. A list is a sequence of elements (which can be of different types) and is mutable, allowing elements to be changed.\n",
        "\n",
        "7.How do tuples ensure data integrity in Python?\n",
        "- Since tuples are immutable, once created, their contents cannot be altered. This guarantees that the data remains constant and secure throughout the program execution.\n",
        "\n",
        "8.What is a hash table, and how does it relate to dictionaries in Python?\n",
        "- A hash table is a data structure that maps keys to values using a hash function. In Python, dictionaries are implemented using hash tables, which allows for constant-time average lookup performance.\n",
        "\n",
        "9.Can lists contain different data types in Python?\n",
        "- Yes, lists in Python can contain elements of different data types, such as integers, strings, floats, and even other lists.\n",
        "\n",
        "10.Explain why strings are immutable in Python.\n",
        "- Strings are immutable to ensure memory efficiency and security. Once created, strings cannot be modified, which allows them to be safely shared and used in operations such as dictionary keys\n",
        "\n",
        "11.What advantages do dictionaries offer over lists for certain tasks?\n",
        "- Dictionaries allow for faster data retrieval using keys instead of indexes. They also provide a clear mapping between keys and values, making data more organized and readable.\n",
        "\n",
        "12.Describe a scenario where using a tuple would be preferable over a list.\n",
        "- Tuples are preferred when you want to ensure that data remains constant and is not modified, such as representing fixed coordinates or passing read-only data to functions.\n",
        "\n",
        "13.How do sets handle duplicate values in Python?\n",
        "- Sets automatically remove duplicates. If duplicate elements are added, only one instance will be stored in the set.\n",
        "\n",
        "14.How does the “in” keyword work differently for lists and dictionaries?\n",
        "- In a list, in checks for the presence of a value. In a dictionary, in checks for the presence of a key.\n",
        "\n",
        "15.Can you modify the elements of a tuple? Explain why or why not.\n",
        "- No, you cannot modify the elements of a tuple because tuples are immutable. Once defined, their contents cannot be changed.\n",
        "\n",
        "16.What is a nested dictionary, and give an example of its use case?\n",
        "- A nested dictionary is a dictionary where values are also dictionaries. It is useful for representing complex data structures like a database of students, where each student has multiple properties (e.g., marks, address).\n",
        "\n",
        "students = {\n",
        "  \"Aniket\": {\"age\": 22, \"city\": \"Mumbai\"},\n",
        "  \"Ravi\": {\"age\": 21, \"city\": \"Pune\"}\n",
        "}\n",
        "\n",
        "\n",
        "17.Describe the time complexity of accessing elements in a dictionary.\n",
        "- Accessing elements in a dictionary has an average time complexity of O(1), which means it is done in constant time.\n",
        "\n",
        "18.In what situations are lists preferred over dictionaries?\n",
        "- Lists are preferred when data order is important, or when working with a simple sequence of values without needing key-value associations.\n",
        "\n",
        "19.Why are dictionaries considered unordered, and how does that affect data retrieval?\n",
        "- Before Python 3.7, dictionaries were unordered, meaning key-value pairs were not stored in any specific order. Even though order is preserved now, dictionary access is still done by key, not position, so retrieval is unaffected by order.\n",
        "\n",
        "20.Explain the difference between a list and a dictionary in terms of data retrieval.\n",
        "- In a list, elements are accessed using an index (e.g., list[0]). In a dictionary, elements are accessed using a key (e.g., dict[\"name\"]), which provides faster and more intuitive data lookup for labeled data."
      ],
      "metadata": {
        "id": "Pnf_Uz6QZXka"
      }
    },
    {
      "cell_type": "markdown",
      "source": [
        "# **Practical Questions**"
      ],
      "metadata": {
        "id": "PtVd9TvQT6mP"
      }
    },
    {
      "cell_type": "code",
      "source": [
        "#1.Write a code to create a string with your name and print it.\n",
        "name = \"Aniket\"\n",
        "print(name)"
      ],
      "metadata": {
        "colab": {
          "base_uri": "https://localhost:8080/"
        },
        "id": "GeJ7J1B_UBCR",
        "outputId": "1104035f-ff81-4b7e-d432-137c46fc3470"
      },
      "execution_count": 34,
      "outputs": [
        {
          "output_type": "stream",
          "name": "stdout",
          "text": [
            "Aniket\n"
          ]
        }
      ]
    },
    {
      "cell_type": "code",
      "source": [
        "#2.Write a code to find the length of the string \"Hello World\".\n",
        "print(len(\"Hello World\"))"
      ],
      "metadata": {
        "colab": {
          "base_uri": "https://localhost:8080/"
        },
        "id": "VM0OqF6WUdeC",
        "outputId": "91c3925f-e6c3-4275-ed3c-6efcf0cf0516"
      },
      "execution_count": 35,
      "outputs": [
        {
          "output_type": "stream",
          "name": "stdout",
          "text": [
            "11\n"
          ]
        }
      ]
    },
    {
      "cell_type": "code",
      "source": [
        "#3.Write a code to slice the first 3 characters from the string \"Python Programming\"?\n",
        "print(\"Python Programming\"[:3])"
      ],
      "metadata": {
        "colab": {
          "base_uri": "https://localhost:8080/"
        },
        "id": "J2oOAc8VUxKT",
        "outputId": "500c4afc-048c-47c4-9f6d-1c3069c983e6"
      },
      "execution_count": 36,
      "outputs": [
        {
          "output_type": "stream",
          "name": "stdout",
          "text": [
            "Pyt\n"
          ]
        }
      ]
    },
    {
      "cell_type": "code",
      "source": [
        "#4.Write a code to convert the string \"hello\" to uppercase.\n",
        "print(\"hello\".upper())"
      ],
      "metadata": {
        "colab": {
          "base_uri": "https://localhost:8080/"
        },
        "id": "VVSsSqnuUxgO",
        "outputId": "65e2093f-1cf4-419e-f865-a009e01f15f3"
      },
      "execution_count": 37,
      "outputs": [
        {
          "output_type": "stream",
          "name": "stdout",
          "text": [
            "HELLO\n"
          ]
        }
      ]
    },
    {
      "cell_type": "code",
      "source": [
        "#5.Write a code to replace the word \"apple\" with \"orange\" in the string \"I like apple\".\n",
        "print(\"I like apple\".replace(\"apple\", \"orange\"))"
      ],
      "metadata": {
        "colab": {
          "base_uri": "https://localhost:8080/"
        },
        "id": "bwvFsBApUxiu",
        "outputId": "89e8faa4-b6a0-4dda-a043-dacac7ff1daf"
      },
      "execution_count": 38,
      "outputs": [
        {
          "output_type": "stream",
          "name": "stdout",
          "text": [
            "I like orange\n"
          ]
        }
      ]
    },
    {
      "cell_type": "code",
      "source": [
        "#6.Write a code to create a list with numbers 1 to 5 and print it.\n",
        "print([1, 2, 3, 4, 5])"
      ],
      "metadata": {
        "colab": {
          "base_uri": "https://localhost:8080/"
        },
        "id": "hYLPWMnWUxmc",
        "outputId": "dad33fcf-8c0a-4bdc-9f9a-2baf7bbd708b"
      },
      "execution_count": 39,
      "outputs": [
        {
          "output_type": "stream",
          "name": "stdout",
          "text": [
            "[1, 2, 3, 4, 5]\n"
          ]
        }
      ]
    },
    {
      "cell_type": "code",
      "source": [
        "#7.Write a code to append the number 10 to the list [1, 2, 3, 4].\n",
        "lst = [1, 2, 3, 4]\n",
        "lst.append(10)\n",
        "print(lst)"
      ],
      "metadata": {
        "colab": {
          "base_uri": "https://localhost:8080/"
        },
        "id": "DrPHKDJpUxoR",
        "outputId": "43dbfd29-ca08-451e-8113-bebec85efa9e"
      },
      "execution_count": 40,
      "outputs": [
        {
          "output_type": "stream",
          "name": "stdout",
          "text": [
            "[1, 2, 3, 4, 10]\n"
          ]
        }
      ]
    },
    {
      "cell_type": "code",
      "source": [
        "#8.Write a code to remove the number 3 from the list [1, 2, 3, 4, 5].\n",
        "lst = [1, 2, 3, 4, 5]\n",
        "lst.remove(3)\n",
        "print(lst)"
      ],
      "metadata": {
        "colab": {
          "base_uri": "https://localhost:8080/"
        },
        "id": "nhE3iAksUxr2",
        "outputId": "c06ca410-0d7c-43e7-b6c7-db940036f065"
      },
      "execution_count": 41,
      "outputs": [
        {
          "output_type": "stream",
          "name": "stdout",
          "text": [
            "[1, 2, 4, 5]\n"
          ]
        }
      ]
    },
    {
      "cell_type": "code",
      "source": [
        "#9.Write a code to access the second element in the list ['a', 'b', 'c', 'd'].\n",
        "print(['a', 'b', 'c', 'd'][1])"
      ],
      "metadata": {
        "colab": {
          "base_uri": "https://localhost:8080/"
        },
        "id": "Cbb-SQVTUxtf",
        "outputId": "857a9801-32cc-4b2e-e9a5-51ccdfbc4c9c"
      },
      "execution_count": 42,
      "outputs": [
        {
          "output_type": "stream",
          "name": "stdout",
          "text": [
            "b\n"
          ]
        }
      ]
    },
    {
      "cell_type": "code",
      "source": [
        "#10.Write a code to reverse the list [10, 20, 30, 40, 50].\n",
        "print([10, 20, 30, 40, 50][::-1])"
      ],
      "metadata": {
        "colab": {
          "base_uri": "https://localhost:8080/"
        },
        "id": "LN7Eh6ojUxxa",
        "outputId": "18cf23d3-8a72-4197-be2a-6ed0c2b6721f"
      },
      "execution_count": 43,
      "outputs": [
        {
          "output_type": "stream",
          "name": "stdout",
          "text": [
            "[50, 40, 30, 20, 10]\n"
          ]
        }
      ]
    },
    {
      "cell_type": "code",
      "source": [
        "#11.Write a code to create a tuple with the elements 100, 200, 300 and print it.\n",
        "tup = (100, 200, 300)\n",
        "print(tup)"
      ],
      "metadata": {
        "colab": {
          "base_uri": "https://localhost:8080/"
        },
        "id": "Ms2YrIewUxzu",
        "outputId": "a97f5fcb-3ff6-43f2-e667-1a2325c04206"
      },
      "execution_count": 44,
      "outputs": [
        {
          "output_type": "stream",
          "name": "stdout",
          "text": [
            "(100, 200, 300)\n"
          ]
        }
      ]
    },
    {
      "cell_type": "code",
      "source": [
        "#12.Write a code to access the second-to-last element of the tuple ('red', 'green', 'blue', 'yellow').\n",
        "colors = ('red', 'green', 'blue', 'yellow')\n",
        "print(colors[-2])"
      ],
      "metadata": {
        "colab": {
          "base_uri": "https://localhost:8080/"
        },
        "id": "7qk1NBNkUx3B",
        "outputId": "4ad90b6f-f0c5-480b-e65d-b12db6711d30"
      },
      "execution_count": 45,
      "outputs": [
        {
          "output_type": "stream",
          "name": "stdout",
          "text": [
            "blue\n"
          ]
        }
      ]
    },
    {
      "cell_type": "code",
      "source": [
        "#13.Write a code to find the minimum number in the tuple (10, 20, 5, 15).\n",
        "print(min((10, 20, 5, 15)))"
      ],
      "metadata": {
        "colab": {
          "base_uri": "https://localhost:8080/"
        },
        "id": "tyyD3bxIUx5K",
        "outputId": "4874b00a-b49d-4133-fc1a-94c74fa24c13"
      },
      "execution_count": 46,
      "outputs": [
        {
          "output_type": "stream",
          "name": "stdout",
          "text": [
            "5\n"
          ]
        }
      ]
    },
    {
      "cell_type": "code",
      "source": [
        "#14.Write a code to find the index of the element \"cat\" in the tuple ('dog', 'cat', 'rabbit').\n",
        "animals = ('dog', 'cat', 'rabbit')\n",
        "print(animals.index(\"cat\"))"
      ],
      "metadata": {
        "colab": {
          "base_uri": "https://localhost:8080/"
        },
        "id": "xsxnOCIOUx8J",
        "outputId": "befb7f77-bcb9-4183-cd6e-86906fc83519"
      },
      "execution_count": 47,
      "outputs": [
        {
          "output_type": "stream",
          "name": "stdout",
          "text": [
            "1\n"
          ]
        }
      ]
    },
    {
      "cell_type": "code",
      "source": [
        "#15.Write a code to create a tuple containing three different fruits and check if \"kiwi\" is in it.\n",
        "fruits = (\"apple\", \"banana\", \"mango\")\n",
        "print(\"kiwi\" in fruits)"
      ],
      "metadata": {
        "colab": {
          "base_uri": "https://localhost:8080/"
        },
        "id": "PxVF3XT1Ux-W",
        "outputId": "a04a7377-1726-4e93-fcdb-9963a7608cd0"
      },
      "execution_count": 48,
      "outputs": [
        {
          "output_type": "stream",
          "name": "stdout",
          "text": [
            "False\n"
          ]
        }
      ]
    },
    {
      "cell_type": "code",
      "source": [
        "#16. Write a code to create a set with the elements 'a', 'b', 'c' and print it.\n",
        "s = {'a', 'b', 'c'}\n",
        "print(s)"
      ],
      "metadata": {
        "colab": {
          "base_uri": "https://localhost:8080/"
        },
        "id": "jSZ4eZRaUyBv",
        "outputId": "5308e5ba-5ae8-454f-e0a6-fc619c8f9f66"
      },
      "execution_count": 49,
      "outputs": [
        {
          "output_type": "stream",
          "name": "stdout",
          "text": [
            "{'a', 'c', 'b'}\n"
          ]
        }
      ]
    },
    {
      "cell_type": "code",
      "source": [
        "#17.Write a code to clear all elements from the set {1, 2, 3, 4, 5}.\n",
        "s = {1, 2, 3, 4, 5}\n",
        "s.clear()\n",
        "print(s)"
      ],
      "metadata": {
        "colab": {
          "base_uri": "https://localhost:8080/"
        },
        "id": "IPjRFwn-UyDj",
        "outputId": "26ffb059-5de9-4908-8afb-42c85c63b26a"
      },
      "execution_count": 50,
      "outputs": [
        {
          "output_type": "stream",
          "name": "stdout",
          "text": [
            "set()\n"
          ]
        }
      ]
    },
    {
      "cell_type": "code",
      "source": [
        "#18.Write a code to remove the element 4 from the set {1, 2, 3, 4}.\n",
        "s = {1, 2, 3, 4}\n",
        "s.remove(4)\n",
        "print(s)"
      ],
      "metadata": {
        "colab": {
          "base_uri": "https://localhost:8080/"
        },
        "id": "_Sni5zrQUyHA",
        "outputId": "f8075f9a-3270-4d39-ad8a-87e8113377ff"
      },
      "execution_count": 51,
      "outputs": [
        {
          "output_type": "stream",
          "name": "stdout",
          "text": [
            "{1, 2, 3}\n"
          ]
        }
      ]
    },
    {
      "cell_type": "code",
      "source": [
        "#19.Write a code to find the union of two sets {1, 2, 3} and {3, 4, 5}.\n",
        "a = {1, 2, 3}\n",
        "b = {3, 4, 5}\n",
        "print(a.union(b))"
      ],
      "metadata": {
        "colab": {
          "base_uri": "https://localhost:8080/"
        },
        "id": "_8qKhiTzUyIx",
        "outputId": "d0575a19-32b0-44d7-a692-ef76f05dd9e9"
      },
      "execution_count": 52,
      "outputs": [
        {
          "output_type": "stream",
          "name": "stdout",
          "text": [
            "{1, 2, 3, 4, 5}\n"
          ]
        }
      ]
    },
    {
      "cell_type": "code",
      "source": [
        "#20.Write a code to find the intersection of two sets {1, 2, 3} and {2, 3, 4}.\n",
        "a = {1, 2, 3}\n",
        "b = {2, 3, 4}\n",
        "print(a.intersection(b))\n"
      ],
      "metadata": {
        "colab": {
          "base_uri": "https://localhost:8080/"
        },
        "id": "PstCh4d-UyM-",
        "outputId": "a242b698-0f5d-430a-e33a-9902dea32f07"
      },
      "execution_count": 53,
      "outputs": [
        {
          "output_type": "stream",
          "name": "stdout",
          "text": [
            "{2, 3}\n"
          ]
        }
      ]
    },
    {
      "cell_type": "code",
      "source": [
        "#21.Write a code to create a dictionary with the keys \"name\", \"age\", and \"city\", and print it.\n",
        "d = {\"name\": \"Aniket\", \"age\": 22, \"city\": \"Mumbai\"}\n",
        "print(d)"
      ],
      "metadata": {
        "colab": {
          "base_uri": "https://localhost:8080/"
        },
        "id": "jLVfilrIUyOn",
        "outputId": "f4dbeac8-e32b-4858-89b8-2f550ebff4a5"
      },
      "execution_count": 54,
      "outputs": [
        {
          "output_type": "stream",
          "name": "stdout",
          "text": [
            "{'name': 'Aniket', 'age': 22, 'city': 'Mumbai'}\n"
          ]
        }
      ]
    },
    {
      "cell_type": "code",
      "source": [
        "#22.Write a code to add a new key-value pair \"country\": \"USA\" to the dictionary {'name': 'John', 'age': 25}.\n",
        "d = {'name': 'John', 'age': 25}\n",
        "d[\"country\"] = \"USA\"\n",
        "print(d)"
      ],
      "metadata": {
        "colab": {
          "base_uri": "https://localhost:8080/"
        },
        "id": "d1QG2ybHUySs",
        "outputId": "acb05d30-0cd5-458e-a416-73a32e43d2d9"
      },
      "execution_count": 55,
      "outputs": [
        {
          "output_type": "stream",
          "name": "stdout",
          "text": [
            "{'name': 'John', 'age': 25, 'country': 'USA'}\n"
          ]
        }
      ]
    },
    {
      "cell_type": "code",
      "source": [
        "#23.Write a code to access the value associated with the key \"name\" in the dictionary {'name': 'Alice', 'age': 30}.\n",
        "d = {'name': 'Alice', 'age': 30}\n",
        "print(d[\"name\"])"
      ],
      "metadata": {
        "colab": {
          "base_uri": "https://localhost:8080/"
        },
        "id": "q-XOjjcjVlrU",
        "outputId": "4ea47d35-501f-4d79-f9d3-00355058e803"
      },
      "execution_count": 56,
      "outputs": [
        {
          "output_type": "stream",
          "name": "stdout",
          "text": [
            "Alice\n"
          ]
        }
      ]
    },
    {
      "cell_type": "code",
      "source": [
        "#24.Write a code to remove the key \"age\" from the dictionary {'name': 'Bob', 'age': 22, 'city': 'New York'}.\n",
        "d = {'name': 'Bob', 'age': 22, 'city': 'New York'}\n",
        "del d[\"age\"]\n",
        "print(d)"
      ],
      "metadata": {
        "colab": {
          "base_uri": "https://localhost:8080/"
        },
        "id": "Jk5O2e0_Vl0b",
        "outputId": "e1a0cbbb-f691-4da6-b4c4-7cb18ceeea4c"
      },
      "execution_count": 57,
      "outputs": [
        {
          "output_type": "stream",
          "name": "stdout",
          "text": [
            "{'name': 'Bob', 'city': 'New York'}\n"
          ]
        }
      ]
    },
    {
      "cell_type": "code",
      "source": [
        "#25.Write a code to check if the key \"city\" exists in the dictionary {'name': 'Alice', 'city': 'Paris'}.\n",
        "d = {'name': 'Alice', 'city': 'Paris'}\n",
        "print(\"city\" in d)"
      ],
      "metadata": {
        "colab": {
          "base_uri": "https://localhost:8080/"
        },
        "id": "gO2MQEjUVl6v",
        "outputId": "532503eb-c744-4e38-fcd8-61dd8fb09da2"
      },
      "execution_count": 58,
      "outputs": [
        {
          "output_type": "stream",
          "name": "stdout",
          "text": [
            "True\n"
          ]
        }
      ]
    },
    {
      "cell_type": "code",
      "source": [
        "#26.Write a code to create a lisprint([1, 2, 3])\n",
        "print((1, 2, 3))\n",
        "print({\"a\": 1, \"b\": 2})"
      ],
      "metadata": {
        "colab": {
          "base_uri": "https://localhost:8080/"
        },
        "id": "d3_P5DnkVmBq",
        "outputId": "b8693f4c-471b-4f2c-c7a0-b48739431160"
      },
      "execution_count": 59,
      "outputs": [
        {
          "output_type": "stream",
          "name": "stdout",
          "text": [
            "(1, 2, 3)\n",
            "{'a': 1, 'b': 2}\n"
          ]
        }
      ]
    },
    {
      "cell_type": "code",
      "source": [
        "#27.Write a code to create a list of 5 random numbers between 1 and 100, sort it in ascending order, and print theresult.(replaced)\n",
        "import random\n",
        "nums = random.sample(range(1, 101), 5)\n",
        "nums.sort()\n",
        "print(nums)"
      ],
      "metadata": {
        "colab": {
          "base_uri": "https://localhost:8080/"
        },
        "id": "6FyjLNiqVmI9",
        "outputId": "3c32ed80-c12f-45f1-fef8-dad05a2e9b55"
      },
      "execution_count": 60,
      "outputs": [
        {
          "output_type": "stream",
          "name": "stdout",
          "text": [
            "[39, 50, 83, 85, 96]\n"
          ]
        }
      ]
    },
    {
      "cell_type": "code",
      "source": [
        "#28.Write a code to create a list with strings and print the element at the third index.\n",
        "lst = [\"apple\", \"banana\", \"cherry\", \"date\", \"fig\"]\n",
        "print(lst[3])"
      ],
      "metadata": {
        "colab": {
          "base_uri": "https://localhost:8080/"
        },
        "id": "h_CvMoCAVmQ0",
        "outputId": "27779a33-ba4b-463d-ebd2-1eec7e27ad75"
      },
      "execution_count": 61,
      "outputs": [
        {
          "output_type": "stream",
          "name": "stdout",
          "text": [
            "date\n"
          ]
        }
      ]
    },
    {
      "cell_type": "code",
      "source": [
        "#29.Write a code to combine two dictionaries into one and print the result.\n",
        "d1 = {\"a\": 1, \"b\": 2}\n",
        "d2 = {\"c\": 3, \"d\": 4}\n",
        "d1.update(d2)\n",
        "print(d1)"
      ],
      "metadata": {
        "colab": {
          "base_uri": "https://localhost:8080/"
        },
        "id": "ejgMNByEVmXW",
        "outputId": "000d0cc4-81c2-44c4-b12a-90ec10131438"
      },
      "execution_count": 62,
      "outputs": [
        {
          "output_type": "stream",
          "name": "stdout",
          "text": [
            "{'a': 1, 'b': 2, 'c': 3, 'd': 4}\n"
          ]
        }
      ]
    },
    {
      "cell_type": "code",
      "source": [
        "#30.Write a code to convert a list of strings into a set.\n",
        "lst = [\"a\", \"b\", \"c\", \"a\"]\n",
        "s = set(lst)\n",
        "print(s)"
      ],
      "metadata": {
        "colab": {
          "base_uri": "https://localhost:8080/"
        },
        "id": "8ls3jwRwVmep",
        "outputId": "737cc1af-7333-4111-b8df-ea7a891ae6ca"
      },
      "execution_count": 63,
      "outputs": [
        {
          "output_type": "stream",
          "name": "stdout",
          "text": [
            "{'a', 'c', 'b'}\n"
          ]
        }
      ]
    }
  ]
}